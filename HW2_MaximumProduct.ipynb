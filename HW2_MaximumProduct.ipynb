{
  "nbformat": 4,
  "nbformat_minor": 0,
  "metadata": {
    "colab": {
      "name": "HW2_MaximumProduct.ipynb",
      "provenance": [],
      "collapsed_sections": []
    },
    "kernelspec": {
      "name": "python3",
      "display_name": "Python 3"
    },
    "language_info": {
      "name": "python"
    }
  },
  "cells": [
    {
      "cell_type": "code",
      "execution_count": null,
      "metadata": {
        "colab": {
          "base_uri": "https://localhost:8080/"
        },
        "id": "qOhngkf9wHJj",
        "outputId": "acbdf377-b2ee-490e-d7d7-f5983d0e6154"
      },
      "outputs": [
        {
          "output_type": "stream",
          "name": "stdout",
          "text": [
            "[-7, -6, 1, 3, 5, 8]\n",
            "ListLength: 6\n",
            "Number1: 8 Number2: 5 Number3: 3\n",
            "MaximumProduct: 120\n"
          ]
        }
      ],
      "source": [
        "list1=[1,5,8,-6,-7,3]\n",
        "list1.sort()\n",
        "print(list1)\n",
        "listLength=len(list1)\n",
        "print(\"ListLength:\",listLength)\n",
        "Number1=list1[listLength-1]\n",
        "Number2=list1[listLength-2]\n",
        "Number3=list1[listLength-3]\n",
        "print(\"Number1:\",Number1 , \"Number2:\",Number2 , \"Number3:\", Number3)\n",
        "MaximumProduct=Number1*Number2*Number3\n",
        "print(\"MaximumProduct:\",MaximumProduct)"
      ]
    },
    {
      "cell_type": "markdown",
      "source": [
        ""
      ],
      "metadata": {
        "id": "dfLpE2J00UEL"
      }
    },
    {
      "cell_type": "code",
      "source": [
        ""
      ],
      "metadata": {
        "id": "xLuahb2g0XAi"
      },
      "execution_count": null,
      "outputs": []
    }
  ]
}